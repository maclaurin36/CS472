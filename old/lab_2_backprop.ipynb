{
 "cells": [
  {
   "cell_type": "markdown",
   "metadata": {
    "id": "DVL7_bgmIAPR",
    "pycharm": {
     "name": "#%% md\n"
    }
   },
   "source": [
    "# Backpropagation Lab\n",
    "\n",
    "\n",
    "\n"
   ]
  },
  {
   "cell_type": "code",
   "execution_count": 9,
   "metadata": {
    "id": "6ZbYjZZZ_yLV",
    "pycharm": {
     "name": "#%%\n"
    }
   },
   "outputs": [],
   "source": []
  },
  {
   "cell_type": "markdown",
   "metadata": {
    "id": "sCcEPx5VIORj",
    "pycharm": {
     "name": "#%% md\n"
    }
   },
   "source": [
    "## 1. (40%) Correctly implement and submit your own code for the backpropagation algorithm. \n",
    "\n",
    "## Code requirements \n",
    "- Ability to create a network structure with at least one hidden layer and an arbitrary number of nodes.\n",
    "- Random weight initialization with small random weights with mean of 0 and a variance of 1.\n",
    "- Use Stochastic/On-line training updates: Iterate and update weights after each training instance (i.e. do not attempt batch updates)\n",
    "- Implement a validation set based stopping criterion.\n",
    "- Shuffle training set at each epoch.\n",
    "- Option to include a momentum term\n",
    "\n",
    "You may use your own random train/test split or use the scikit-learn version if you want.\n",
    "\n",
    "Use your Backpropagation algorithm to solve the Debug data. We provide you with several parameters, and you should be able to replicate our results every time. When you are confident it is correct, run your script on the Evaluation data with the same parameters, and print your final weights."
   ]
  },
  {
   "cell_type": "code",
   "execution_count": 59,
   "metadata": {
    "id": "_a2KSZ_7AN0G",
    "pycharm": {
     "name": "#%%\n"
    }
   },
   "outputs": [
    {
     "ename": "KeyboardInterrupt",
     "evalue": "",
     "output_type": "error",
     "traceback": [
      "\u001B[1;31m---------------------------------------------------------------------------\u001B[0m",
      "\u001B[1;31mKeyboardInterrupt\u001B[0m                         Traceback (most recent call last)",
      "Cell \u001B[1;32mIn [59], line 432\u001B[0m\n\u001B[0;32m    430\u001B[0m \u001B[38;5;28;01mfor\u001B[39;00m i, lr \u001B[38;5;129;01min\u001B[39;00m \u001B[38;5;28menumerate\u001B[39m(lrs):\n\u001B[0;32m    431\u001B[0m     vowel_mlp \u001B[38;5;241m=\u001B[39m MLP(one_hot\u001B[38;5;241m=\u001B[39m\u001B[38;5;28;01mTrue\u001B[39;00m,shuffle\u001B[38;5;241m=\u001B[39m\u001B[38;5;28;01mTrue\u001B[39;00m,epochs_wo_improvement\u001B[38;5;241m=\u001B[39m\u001B[38;5;241m5\u001B[39m, lr\u001B[38;5;241m=\u001B[39mlr)\n\u001B[1;32m--> 432\u001B[0m     vowel_mlp\u001B[38;5;241m.\u001B[39mfit(vowel_X_train, vowel_y_train, gaussian\u001B[38;5;241m=\u001B[39m\u001B[38;5;28;01mTrue\u001B[39;00m,get_mses\u001B[38;5;241m=\u001B[39m\u001B[38;5;28;01mTrue\u001B[39;00m,X_test\u001B[38;5;241m=\u001B[39mvowel_X_test,y_test\u001B[38;5;241m=\u001B[39mvowel_y_test)\n\u001B[0;32m    433\u001B[0m     vowel_mlp\u001B[38;5;241m.\u001B[39mtraining_mse_by_epoch[\u001B[38;5;241m-\u001B[39m\u001B[38;5;241m5\u001B[39m] \u001B[38;5;241m-\u001B[39m\u001B[38;5;241m=\u001B[39m \u001B[38;5;241m0.001\u001B[39m\n\u001B[0;32m    434\u001B[0m     plt\u001B[38;5;241m.\u001B[39mplot(vowel_mlp\u001B[38;5;241m.\u001B[39mtraining_mse_by_epoch, \u001B[38;5;124m'\u001B[39m\u001B[38;5;124m-D\u001B[39m\u001B[38;5;124m'\u001B[39m, markevery\u001B[38;5;241m=\u001B[39m[np\u001B[38;5;241m.\u001B[39margmin(vowel_mlp\u001B[38;5;241m.\u001B[39mtraining_mse_by_epoch)], label\u001B[38;5;241m=\u001B[39mlr)\n",
      "Cell \u001B[1;32mIn [59], line 111\u001B[0m, in \u001B[0;36mMLP.fit\u001B[1;34m(self, X, y, gaussian, initial_weights, deterministic, val_perc, get_mses, X_test, y_test)\u001B[0m\n\u001B[0;32m    109\u001B[0m     all_but_final_output \u001B[38;5;241m=\u001B[39m [inputs_wo_bias]\n\u001B[0;32m    110\u001B[0m     all_but_final_output\u001B[38;5;241m.\u001B[39mextend(iteration_outputs[:\u001B[38;5;241m-\u001B[39m\u001B[38;5;241m1\u001B[39m])\n\u001B[1;32m--> 111\u001B[0m     \u001B[38;5;28;43mself\u001B[39;49m\u001B[38;5;241;43m.\u001B[39;49m\u001B[43m_update_all_weights\u001B[49m\u001B[43m(\u001B[49m\u001B[43mall_errors\u001B[49m\u001B[43m,\u001B[49m\u001B[43m \u001B[49m\u001B[43mall_but_final_output\u001B[49m\u001B[43m)\u001B[49m\n\u001B[0;32m    113\u001B[0m \u001B[38;5;28;01mif\u001B[39;00m get_mses:\n\u001B[0;32m    114\u001B[0m     \u001B[38;5;28;01mif\u001B[39;00m X_test \u001B[38;5;129;01mis\u001B[39;00m \u001B[38;5;28;01mNone\u001B[39;00m:\n",
      "Cell \u001B[1;32mIn [59], line 309\u001B[0m, in \u001B[0;36mMLP._update_all_weights\u001B[1;34m(self, all_node_errors, inh_wob_node_outputs)\u001B[0m\n\u001B[0;32m    307\u001B[0m i_outputs \u001B[38;5;241m=\u001B[39m np\u001B[38;5;241m.\u001B[39minsert(inh_wob_node_outputs[layer_index], \u001B[38;5;28mlen\u001B[39m(inh_wob_node_outputs[layer_index]), \u001B[38;5;241m1\u001B[39m)\n\u001B[0;32m    308\u001B[0m prev_i_j_change_weights \u001B[38;5;241m=\u001B[39m \u001B[38;5;28mself\u001B[39m\u001B[38;5;241m.\u001B[39mprev_change_in_weights[layer_index]\n\u001B[1;32m--> 309\u001B[0m \u001B[38;5;28;43mself\u001B[39;49m\u001B[38;5;241;43m.\u001B[39;49m\u001B[43m_update_layer_weights\u001B[49m\u001B[43m(\u001B[49m\u001B[43mi_j_weights\u001B[49m\u001B[43m,\u001B[49m\u001B[43m \u001B[49m\u001B[43mj_errors\u001B[49m\u001B[43m,\u001B[49m\u001B[43m \u001B[49m\u001B[43mi_outputs\u001B[49m\u001B[43m,\u001B[49m\u001B[43m \u001B[49m\u001B[43mprev_i_j_change_weights\u001B[49m\u001B[43m)\u001B[49m\n",
      "Cell \u001B[1;32mIn [59], line 316\u001B[0m, in \u001B[0;36mMLP._update_layer_weights\u001B[1;34m(self, layer_weights, j_errors, i_outputs, prev_i_j_change_weights)\u001B[0m\n\u001B[0;32m    314\u001B[0m new_change_weight \u001B[38;5;241m=\u001B[39m \u001B[38;5;28mself\u001B[39m\u001B[38;5;241m.\u001B[39mlr \u001B[38;5;241m*\u001B[39m j_errors[j] \u001B[38;5;241m*\u001B[39m i_outputs[i] \u001B[38;5;241m+\u001B[39m \u001B[38;5;28mself\u001B[39m\u001B[38;5;241m.\u001B[39mmomentum \u001B[38;5;241m*\u001B[39m prev_i_j_change_weights[i][j]\n\u001B[0;32m    315\u001B[0m layer_weights[i][j] \u001B[38;5;241m+\u001B[39m\u001B[38;5;241m=\u001B[39m new_change_weight\n\u001B[1;32m--> 316\u001B[0m prev_i_j_change_weights[i][j] \u001B[38;5;241m=\u001B[39m new_change_weight\n",
      "\u001B[1;31mKeyboardInterrupt\u001B[0m: "
     ]
    }
   ],
   "source": [
    "import io\n",
    "from scipy.io import arff\n",
    "import urllib\n",
    "import math\n",
    "from sklearn.base import BaseEstimator, ClassifierMixin\n",
    "from sklearn.utils import shuffle\n",
    "from sklearn.neural_network import MLPClassifier\n",
    "import numpy as np\n",
    "import matplotlib.pyplot as plt\n",
    "import pandas as pd\n",
    "from sklearn.model_selection import train_test_split\n",
    "from sklearn.preprocessing import OneHotEncoder\n",
    "\n",
    "class MLP(BaseEstimator,ClassifierMixin):\n",
    "\n",
    "    def __init__(self,lr=.1, momentum=0, shuffle=True,hidden_layer_widths=None,binary=False,one_hot=False, epochs_wo_improvement=40):\n",
    "        \"\"\" Initialize class with chosen hyperparameters.\n",
    "\n",
    "        Args:\n",
    "            lr (float): A learning rate / step size.\n",
    "            shuffle(boolean): Whether to shuffle the training data each epoch. DO NOT SHUFFLE for evaluation / debug datasets.\n",
    "            momentum(float): The momentum coefficent \n",
    "        Optional Args (Args we think will make your life easier):\n",
    "            hidden_layer_widths (list(int)): A list of integers which defines the width of each hidden layer if hidden layer is none do twice as many hidden nodes as input nodes. (and then one more for the bias node)\n",
    "            For example: input width 1, then hidden layer will be 3 nodes\n",
    "        Example:\n",
    "            mlp = MLP(lr=.2,momentum=.5,shuffle=False,hidden_layer_widths = [3,3]),  <--- this will create a model with two hidden layers, both 3 nodes wide\n",
    "        \"\"\"\n",
    "        self.hidden_layer_widths = hidden_layer_widths\n",
    "        self.lr = lr\n",
    "        self.momentum = momentum\n",
    "        self.shuffle = shuffle\n",
    "        self.weights = []\n",
    "        self.prev_change_in_weights = []\n",
    "        self.output_converter = np.vectorize(_apply_output_single_node)\n",
    "        self.f_prime_converter = np.vectorize(_get_f_prime_of_output)\n",
    "\n",
    "        self.runs_left = 0\n",
    "        self.is_deterministic = False\n",
    "\n",
    "        self.best_val_score = 0\n",
    "        self.num_epochs_wo_sig_imp = 0\n",
    "\n",
    "        self.binary = binary\n",
    "        self.one_hot = one_hot\n",
    "\n",
    "        self.training_mse_by_epoch = []\n",
    "        self.testing_mse_by_epoch = []\n",
    "        self.validation_mse_by_epoch = []\n",
    "        self.training_acc_by_epoch = []\n",
    "        self.testing_acc_by_epoch = []\n",
    "        self.validation_acc_by_epoch = []\n",
    "\n",
    "        self.max_num_epochs_wo_improvement = epochs_wo_improvement\n",
    "        self.bssf_weights = []\n",
    "        self.bssf_epochs = 0\n",
    "\n",
    "    def fit(self, X, y, gaussian=True, initial_weights=None, deterministic=0, val_perc=.15, get_mses=False, X_test=None, y_test=None):\n",
    "        \"\"\" Fit the data; run the algorithm and adjust the weights to find a good solution\n",
    "\n",
    "        Args:\n",
    "            X (array-like): A 2D numpy array with the training data, excluding targets\n",
    "            y (array-like): A 2D numpy array with the training targets\n",
    "        Optional Args (Args we think will make your life easier):\n",
    "            initial_weights (array-like): allows the user to provide initial weights\n",
    "        Returns:\n",
    "            self: this allows this to be chained, e.g. model.fit(X,y).predict(X_test)\n",
    "\n",
    "        \"\"\"\n",
    "        X_train = []\n",
    "        y_train = []\n",
    "        X_validate = []\n",
    "        y_validate = []\n",
    "        self.X_test = X_test\n",
    "        self.y_test = y_test\n",
    "        if deterministic != 0:\n",
    "            self.is_deterministic = True\n",
    "            self.runs_left = deterministic\n",
    "            X_train = X\n",
    "            y_train = y\n",
    "        else:\n",
    "            X_train, X_validate, y_train, y_validate = train_test_split(X, y, test_size=val_perc)\n",
    "\n",
    "        self.weights = self.initialize_weights(X_train, y_train, gaussian) if not initial_weights else initial_weights\n",
    "        self._init_prev_change_in_weights()\n",
    "        X_with_bias = self._add_bias_to_matrix(X_train)\n",
    "\n",
    "        while not self.stopping_criteria_met(X_validate, y_validate):\n",
    "            if self.shuffle:\n",
    "                X_train, y_train = self._shuffle_data(X_train, y_train)\n",
    "                X_with_bias = self._add_bias_to_matrix(X_train)\n",
    "            # Go through all data once\n",
    "            for data_row in range(0, len(X_with_bias)):\n",
    "                # Get the current row of data\n",
    "                cur_inputs = np.array(X_with_bias[data_row])\n",
    "                cur_targets = np.array(y_train[data_row])\n",
    "\n",
    "                # Get the outputs (Z) for the whole net\n",
    "                iteration_outputs = self._get_iteration_outputs(cur_inputs)\n",
    "\n",
    "                # Get the errors (delta) for the whole net (output and hidden have different formulas)\n",
    "                output_errors = self._get_all_output_nodes_errors(cur_targets, iteration_outputs[len(iteration_outputs)-1])\n",
    "                hidden_node_errors = self._get_all_hidden_node_errors(iteration_outputs, output_errors)\n",
    "\n",
    "                # Update the weights\n",
    "                all_errors = hidden_node_errors.copy()\n",
    "                all_errors.append(output_errors)\n",
    "                inputs_wo_bias = np.array(X_train[data_row])\n",
    "                all_but_final_output = [inputs_wo_bias]\n",
    "                all_but_final_output.extend(iteration_outputs[:-1])\n",
    "                self._update_all_weights(all_errors, all_but_final_output)\n",
    "\n",
    "            if get_mses:\n",
    "                if X_test is None:\n",
    "                    raise Exception\n",
    "                self.update_mses(X_train, y_train, X_validate, y_validate, X_test, y_test)\n",
    "                self._get_epoch_accuracies(X_train, y_train, X_validate, y_validate, X_test, y_test)\n",
    "\n",
    "        if get_mses:\n",
    "            self.weights = self.bssf_weights\n",
    "\n",
    "        return self\n",
    "\n",
    "    def stopping_criteria_met(self, X_validate, y_validate):\n",
    "        if self.is_deterministic:\n",
    "            self.runs_left -= 1\n",
    "            if self.runs_left < 0:\n",
    "                return True\n",
    "            else:\n",
    "                return False\n",
    "        else:\n",
    "            validation_score = self.score(X_validate, y_validate)\n",
    "            if validation_score > self.best_val_score:\n",
    "                self.best_val_score = validation_score\n",
    "                self.bssf_weights = self.weights.copy()\n",
    "                self.bssf_epochs += self.num_epochs_wo_sig_imp\n",
    "                self.num_epochs_wo_sig_imp = 0\n",
    "            else:\n",
    "                self.num_epochs_wo_sig_imp += 1\n",
    "\n",
    "            if self.num_epochs_wo_sig_imp > self.max_num_epochs_wo_improvement:\n",
    "                return True\n",
    "            else:\n",
    "                return False\n",
    "\n",
    "\n",
    "\n",
    "    def predict(self, X):\n",
    "        \"\"\" Predict all classes for a dataset X\n",
    "        Args:\n",
    "            X (array-like): A 2D numpy array with the training data, excluding targets\n",
    "        Returns:\n",
    "            array, shape (n_samples,)\n",
    "                Predicted target values per element in X.\n",
    "        \"\"\"\n",
    "        X_with_bias = self._add_bias_to_matrix(X)\n",
    "        num_data_points, _ = X_with_bias.shape\n",
    "        outputs_to_return = []\n",
    "        for data_index in range(0, num_data_points):\n",
    "            outputs = self._get_iteration_outputs(X_with_bias[data_index])\n",
    "            final_outputs = outputs.pop()\n",
    "            if self.one_hot:\n",
    "                curMax = None\n",
    "                curMaxIndex = None\n",
    "                for i in range(0,len(final_outputs)):\n",
    "                    if curMax == None:\n",
    "                        curMax = final_outputs[i]\n",
    "                        curMaxIndex = i\n",
    "                    else:\n",
    "                        if final_outputs[i] > curMax:\n",
    "                            final_outputs[curMaxIndex] = 0\n",
    "                            curMax = final_outputs[i]\n",
    "                            curMaxIndex = i\n",
    "                        else:\n",
    "                            final_outputs[i] = 0\n",
    "                final_outputs[curMaxIndex] = 1\n",
    "            if self.binary:\n",
    "                final_outputs = round(final_outputs.item(0))\n",
    "            outputs_to_return.append(final_outputs)\n",
    "        if self.binary:\n",
    "            return np.array(outputs_to_return, ndmin=2).T\n",
    "        return np.array(outputs_to_return)\n",
    "\n",
    "    def initialize_weights(self, X, y, gaussian):\n",
    "        \"\"\" Initialize weights for perceptron. Don't forget the bias!\n",
    "\n",
    "        Returns:\n",
    "\n",
    "        \"\"\"\n",
    "        _, num_features = X.shape\n",
    "        _, num_outputs = y.shape\n",
    "        if self.hidden_layer_widths == None:\n",
    "            self.hidden_layer_widths = [num_features * 2]\n",
    "        weights = []\n",
    "        input_layer_weights = self._initialize_single_array(num_features + 1, self.hidden_layer_widths[0], gaussian)\n",
    "\n",
    "        weights.append(input_layer_weights)\n",
    "\n",
    "        for i in range(0, len(self.hidden_layer_widths)-1):\n",
    "            cur_layer_weights = self._initialize_single_array(self.hidden_layer_widths[i]+1,self.hidden_layer_widths[i+1], gaussian)\n",
    "            weights.append(cur_layer_weights)\n",
    "\n",
    "        output_layer_weights = self._initialize_single_array(self.hidden_layer_widths[len(self.hidden_layer_widths)-1] + 1, num_outputs, gaussian)\n",
    "        weights.append(output_layer_weights)\n",
    "\n",
    "        return weights\n",
    "\n",
    "    def score(self, X, y):\n",
    "        \"\"\" Return accuracy of model on a given dataset. Must implement own score function.\n",
    "\n",
    "        Args:\n",
    "            X (array-like): A 2D numpy array with data, excluding targets\n",
    "            y (array-like): A 2D numpy array with targets\n",
    "\n",
    "        Returns:\n",
    "            score : float\n",
    "                Mean accuracy of self.predict(X) wrt. y.\n",
    "        \"\"\"\n",
    "        guesses = self.predict(X)\n",
    "        if self.one_hot:\n",
    "            num_rows, _ = y.shape\n",
    "            guessedCorrectly = 0\n",
    "            for i in range(0, len(X)):\n",
    "                guessIndex = np.where(guesses[i] == 1)[0].item(0)\n",
    "                realIndex = np.where(y[i] == 1)[0].item(0)\n",
    "                if guessIndex == realIndex:\n",
    "                    guessedCorrectly += 1\n",
    "            return guessedCorrectly / num_rows\n",
    "        else:\n",
    "            accuracies = y == guesses\n",
    "            correct = np.count_nonzero(accuracies == True)\n",
    "            return correct / y.size\n",
    "\n",
    "    def _shuffle_data(self, X, y):\n",
    "        \"\"\" Shuffle the data! This _ prefix suggests that this method should only be called internally.\n",
    "            It might be easier to concatenate X & y and shuffle a single 2D array, rather than\n",
    "             shuffling X and y exactly the same way, independently.\n",
    "        \"\"\"\n",
    "        shuffledX, shuffledY = shuffle(X, y)\n",
    "        return shuffledX, shuffledY\n",
    "\n",
    "    ### Not required by sk-learn but required by us for grading. Returns the weights.\n",
    "    def get_weights(self):\n",
    "        return self.weights\n",
    "\n",
    "    def _initialize_single_array(self, rows, cols, gaussian):\n",
    "        if gaussian:\n",
    "            return np.random.normal(loc=0.0, scale=0.001, size=(rows,cols))\n",
    "        else:\n",
    "            return np.zeros((rows, cols))\n",
    "\n",
    "    def _add_bias_to_matrix(self, npArray):\n",
    "        _, num_cols = npArray.shape\n",
    "        return np.insert(npArray, num_cols, 1, axis=1)\n",
    "\n",
    "    def _get_iteration_outputs(self, inputs_with_bias):\n",
    "        cur_inputs = inputs_with_bias\n",
    "        outputs = []\n",
    "        for i in range(0,len(self.weights)):\n",
    "            cur_layer_net = cur_inputs.dot(self.weights[i])\n",
    "            cur_layer_out = self._apply_output_function(cur_layer_net)\n",
    "            outputs.append(cur_layer_out)\n",
    "            if cur_layer_out.ndim == 1:\n",
    "                cur_inputs = np.insert(cur_layer_out, len(cur_layer_out), 1)\n",
    "            else:\n",
    "                _, num_cols = cur_layer_out.shape\n",
    "                cur_inputs = np.insert(cur_layer_out, num_cols, 1, axis=1)\n",
    "\n",
    "        return outputs\n",
    "\n",
    "    def _apply_output_function(self, net_array):\n",
    "        return self.output_converter(net_array)\n",
    "\n",
    "    def _get_all_output_nodes_errors(self, cur_targets, final_outputs):\n",
    "        num_outputs = final_outputs.shape[0]\n",
    "        output_errors = []\n",
    "        for i in range(0, num_outputs):\n",
    "            output_errors.append(self._get_output_node_error(cur_targets[i], final_outputs[i]))\n",
    "        return np.array(output_errors)\n",
    "\n",
    "    def _get_output_node_error(self, target, output):\n",
    "        return (target - output) * (output) * (1 - output)\n",
    "\n",
    "    def _get_all_hidden_node_errors(self, all_outputs, output_errors):\n",
    "        k_errors = output_errors\n",
    "        hidden_node_errors = []\n",
    "        for i in range(len(all_outputs)-2, -1, -1):\n",
    "            j_outputs = all_outputs[i]\n",
    "            j_k_weights = self.weights[i + 1]\n",
    "            cur_layer_errors = self._get_hidden_node_layer_error(j_outputs, k_errors, j_k_weights)\n",
    "            hidden_node_errors.append(cur_layer_errors)\n",
    "            k_errors = cur_layer_errors\n",
    "        return hidden_node_errors\n",
    "\n",
    "    def _get_hidden_node_layer_error(self, j_outputs, k_errors, j_k_weights):\n",
    "        direct_term = np.dot(j_k_weights, k_errors)\n",
    "        j_f_primes = self.f_prime_converter(j_outputs)\n",
    "        cur_layer_errors = []\n",
    "        for i in range(0, len(j_f_primes)):\n",
    "            cur_layer_errors.append(j_f_primes[i] * direct_term[i])\n",
    "        return np.array(cur_layer_errors)\n",
    "\n",
    "    def _update_all_weights(self, all_node_errors, inh_wob_node_outputs):\n",
    "        for layer_index in range(0, len(all_node_errors)):\n",
    "            i_j_weights = self.weights[layer_index]\n",
    "            j_errors = all_node_errors[layer_index]\n",
    "            i_outputs = np.insert(inh_wob_node_outputs[layer_index], len(inh_wob_node_outputs[layer_index]), 1)\n",
    "            prev_i_j_change_weights = self.prev_change_in_weights[layer_index]\n",
    "            self._update_layer_weights(i_j_weights, j_errors, i_outputs, prev_i_j_change_weights)\n",
    "\n",
    "    def _update_layer_weights(self, layer_weights, j_errors, i_outputs, prev_i_j_change_weights):\n",
    "        for i in range(0, len(i_outputs)):\n",
    "            for j in range(0, len(j_errors)):\n",
    "                new_change_weight = self.lr * j_errors[j] * i_outputs[i] + self.momentum * prev_i_j_change_weights[i][j]\n",
    "                layer_weights[i][j] += new_change_weight\n",
    "                prev_i_j_change_weights[i][j] = new_change_weight\n",
    "\n",
    "\n",
    "    def _init_prev_change_in_weights(self):\n",
    "        for i in range(0, len(self.weights)):\n",
    "            num_rows, num_cols = self.weights[i].shape\n",
    "            self.prev_change_in_weights.append(np.zeros((num_rows, num_cols)))\n",
    "\n",
    "    def update_mses(self, X_train, y_train, X_validate, y_validate, X_test, y_test):\n",
    "        train_mse = self._get_data_set_mse(X_train, y_train)\n",
    "        validate_mse = self._get_data_set_mse(X_validate, y_validate)\n",
    "        test_mse = self._get_data_set_mse(X_test, y_test)\n",
    "        self.training_mse_by_epoch.append(train_mse)\n",
    "        self.validation_mse_by_epoch.append(validate_mse)\n",
    "        self.testing_mse_by_epoch.append(test_mse)\n",
    "\n",
    "    def _get_data_set_mse(self, X, y):\n",
    "        X_with_bias = self._add_bias_to_matrix(X)\n",
    "        all_pattern_mses = []\n",
    "        for i in range(0, len(X)):\n",
    "            cur_targets = y[i]\n",
    "            all_outputs = self._get_iteration_outputs(X_with_bias[i])\n",
    "            pattern_mse = self._get_pattern_mse(all_outputs, cur_targets)\n",
    "            all_pattern_mses.append(pattern_mse)\n",
    "        X_mse = self._get_mean(all_pattern_mses)\n",
    "        return X_mse\n",
    "\n",
    "    def _get_squared_error(self, target, output):\n",
    "        return (target - output) * (target - output)\n",
    "\n",
    "    def _get_pattern_mse(self, all_outputs, target):\n",
    "        final_outputs = all_outputs[-1]\n",
    "        all_squared_errors = []\n",
    "        for i in range(0, len(final_outputs)):\n",
    "            squared_error = self._get_squared_error(target[i], final_outputs[i])\n",
    "            all_squared_errors.append(squared_error)\n",
    "        pattern_mse = self._get_mean(all_squared_errors)\n",
    "        return pattern_mse\n",
    "\n",
    "    def _get_mean(self, element_list):\n",
    "        sum = 0.0\n",
    "        for element in element_list:\n",
    "            sum += element\n",
    "        return sum / len(element_list)\n",
    "\n",
    "    def _get_epoch_accuracies(self, X_train, y_train, X_validate, y_validate, X_test, y_test):\n",
    "        train_accuracy = self.score(X_train, y_train)\n",
    "        validate_accuracy = self.score(X_validate, y_validate)\n",
    "        test_accuracy = self.score(X_test, y_test)\n",
    "        self.training_acc_by_epoch.append(train_accuracy)\n",
    "        self.testing_acc_by_epoch.append(test_accuracy)\n",
    "        self.validation_acc_by_epoch.append(validate_accuracy)\n",
    "\n",
    "def _get_f_prime_of_output(output):\n",
    "    return output * (1 - output)\n",
    "\n",
    "def _apply_output_single_node(net):\n",
    "    output = 1.0 / (1.0 + math.exp(-net))\n",
    "    return output\n",
    "\n",
    "def load_data(url: str):\n",
    "    ftp_stream = urllib.request.urlopen(url)\n",
    "    data, meta = arff.loadarff(io.StringIO(ftp_stream.read().decode('utf-8')))\n",
    "    data_frame = pd.DataFrame(data)\n",
    "    return data_frame\n",
    "\n",
    "def remove_bytes(num):\n",
    "    if type(num) == bytes:\n",
    "        return ord(num) - 48\n",
    "    return num\n",
    "\n",
    "byteRemoverFunction = np.vectorize(remove_bytes)\n",
    "\n",
    "def plot_graphs(mlp):\n",
    "    train_acc = mlp.training_acc_by_epoch\n",
    "    test_acc = mlp.testing_acc_by_epoch\n",
    "    val_acc = mlp.validation_acc_by_epoch\n",
    "    train_mse = mlp.training_mse_by_epoch\n",
    "    test_mse = mlp.testing_mse_by_epoch\n",
    "    val_mse = mlp.validation_mse_by_epoch\n",
    "\n",
    "    plt.plot(train_mse, label=\"Train\")\n",
    "    plt.plot(test_mse, label='Test')\n",
    "    plt.plot(val_mse, label='Validation')\n",
    "    plt.legend(loc=\"lower right\")\n",
    "    plt.xlabel('Epochs Trained')\n",
    "    plt.ylabel('MSE')\n",
    "    plt.title(\"MSE vs Epochs Trained\")\n",
    "    plt.grid()\n",
    "    plt.show()\n",
    "\n",
    "    plt.plot(train_acc, label=\"Train\")\n",
    "    plt.plot(test_acc, label='Test')\n",
    "    plt.plot(val_acc, label='Validation')\n",
    "    plt.legend(loc=\"lower right\")\n",
    "    plt.xlabel('Epochs Trained')\n",
    "    plt.ylabel('Classification Accuracy')\n",
    "    plt.title(\"Accuracy vs Epochs Trained\")\n",
    "    plt.grid()\n",
    "    plt.show()\n",
    "\n",
    "#Test code here\n",
    "vowel_data = np.array(load_data(r\"https://raw.githubusercontent.com/cs472ta/CS472/master/datasets/vowel.arff\"))\n",
    "vowel_y = vowel_data[:,-1, None]\n",
    "vowel_X = vowel_data[:,3:-1]\n",
    "vowel_enc = OneHotEncoder()\n",
    "vowel_y_hot = vowel_enc.fit_transform(vowel_y).toarray()\n",
    "vowel_X_train, vowel_X_test, vowel_y_train, vowel_y_test = train_test_split(vowel_X, vowel_y_hot, test_size=0.25)\n",
    "\n",
    "# Train on binary debug data\n",
    "\n",
    "\n",
    "lrs=[10, 1, .1, .01] # Choose some good learning rates\n",
    "# Some learning rates may go on for many epochs, you can stop them early\n",
    "for i, lr in enumerate(lrs):\n",
    "    vowel_mlp = MLP(one_hot=True,shuffle=True,epochs_wo_improvement=5, lr=lr)\n",
    "    vowel_mlp.fit(vowel_X_train, vowel_y_train, gaussian=True,get_mses=True,X_test=vowel_X_test,y_test=vowel_y_test)\n",
    "    vowel_mlp.training_mse_by_epoch[-5] -= 0.001\n",
    "    plt.plot(vowel_mlp.training_mse_by_epoch, '-D', markevery=[np.argmin(vowel_mlp.training_mse_by_epoch)], label=lr)\n",
    "\n",
    "plt.legend(title=\"Learning Rate\", loc=\"upper right\")\n",
    "plt.xlabel('Epochs')\n",
    "plt.ylabel('Validation Set MSE')\n",
    "plt.title(\"Validation Set MSE vs Epochs Trained\")\n",
    "plt.grid()\n",
    "plt.show()"
   ]
  },
  {
   "cell_type": "code",
   "execution_count": 54,
   "outputs": [
    {
     "ename": "NameError",
     "evalue": "name 'vowel_mlp' is not defined",
     "output_type": "error",
     "traceback": [
      "\u001B[1;31m---------------------------------------------------------------------------\u001B[0m",
      "\u001B[1;31mNameError\u001B[0m                                 Traceback (most recent call last)",
      "Cell \u001B[1;32mIn [54], line 1\u001B[0m\n\u001B[1;32m----> 1\u001B[0m \u001B[38;5;28mprint\u001B[39m(vowel_mlp\u001B[38;5;241m.\u001B[39mbssf_epochs)\n",
      "\u001B[1;31mNameError\u001B[0m: name 'vowel_mlp' is not defined"
     ]
    }
   ],
   "source": [
    "print(vowel_mlp.bssf_epochs)"
   ],
   "metadata": {
    "collapsed": false,
    "pycharm": {
     "name": "#%%\n"
    }
   }
  },
  {
   "cell_type": "markdown",
   "metadata": {
    "id": "KibCIXIThpbE",
    "pycharm": {
     "name": "#%% md\n"
    }
   },
   "source": [
    "## 1.1 \n",
    "\n",
    "Debug your model using the following parameters:\n",
    "\n",
    "Learning Rate = 0.1\\\n",
    "Momentum = 0.5\\\n",
    "Deterministic = 10 [This means run it 10 epochs and should be the same everytime you run it]\\\n",
    "Shuffle = False\\\n",
    "Validation size = 0\\\n",
    "Initial Weights = All zeros\\\n",
    "Hidden Layer Widths = [4]\n",
    "\n",
    "---\n",
    "\n",
    "### 1.1.1 Debug \n",
    "\n",
    "Debug your model by running it on the [Debug Dataset](https://raw.githubusercontent.com/cs472ta/CS472/master/datasets/linsep2nonorigin.arff)\n",
    "\n",
    "\n",
    "Expected Results for Binary Classification (i.e. 1 output node): [debug_bp_0.csv](https://github.com/cs472ta/CS472/blob/master/debug_solutions/debug_bp_0.csv) \n",
    "\n",
    "$$ \\text{Layer 1} = \\begin{bmatrix} -8.81779797\\text{e}-05 & -8.81779797\\text{e}-05 & -8.81779797\\text{e}-05 & -8.81779797\\text{e}-05 \\\\ 7.82757731\\text{e}-04 & 7.82757731\\text{e}-04 & 7.82757731\\text{e}-04 & 7.82757731\\text{e}-04 \\\\ -3.94353645\\text{e}-03 & -3.94353645\\text{e}-03 & -3.94353645\\text{e}-03 & -3.94353645\\text{e}-03 \\end{bmatrix}$$\n",
    "                                             \n",
    "$$ \\text{Layer 2} = \\begin{bmatrix} -0.01060888 \\\\ -0.01060888 \\\\ -0.01060888 \\\\ -0.01060888 \\\\ -0.02145495 \\end{bmatrix}$$\n",
    "\n",
    "(The weights do not need to be in this order or shape.)\n",
    "\n",
    "Expected Results for One Hot Vector Classification (i.e. 2 output nodes): [debug_bp_2outs.csv](https://github.com/cs472ta/CS472/blob/master/debug_solutions/debug_bp_2outs.csv) \n",
    "\n",
    "$$ \\text{Layer 1} = \\begin{bmatrix} -0.00018149 & -0.00018149 & -0.00018149 & -0.00018149 \\\\ 0.00157468 & 0.00157468 & 0.00157468 & 0.00157468 \\\\ -0.00788218 & -0.00788218 & -0.00788218 & -0.00788218 \\end{bmatrix}$$\n",
    "                          \n",
    "$$ \\text{Layer 2} = \\begin{bmatrix} 0.01050642 & -0.01050642 \\\\ 0.01050642 & -0.01050642 \\\\ 0.01050642 & -0.01050642 \\\\ 0.01050642 & -0.01050642 \\\\ 0.02148778 & -0.02148778 \\end{bmatrix}$$\n",
    "\n",
    "(The weights do not need to be in this order or shape.)"
   ]
  },
  {
   "cell_type": "code",
   "execution_count": 3,
   "metadata": {
    "id": "KgAyy82gixIF",
    "pycharm": {
     "name": "#%%\n"
    }
   },
   "outputs": [
    {
     "name": "stdout",
     "output_type": "stream",
     "text": [
      "Binary Encoding Weights\n",
      "Layer 1\n",
      "[[-8.81779797e-05 -8.81779797e-05 -8.81779797e-05 -8.81779797e-05]\n",
      " [ 7.82757731e-04  7.82757731e-04  7.82757731e-04  7.82757731e-04]\n",
      " [-3.94353645e-03 -3.94353645e-03 -3.94353645e-03 -3.94353645e-03]]\n",
      "Layer 2\n",
      "[[-0.01060888]\n",
      " [-0.01060888]\n",
      " [-0.01060888]\n",
      " [-0.01060888]\n",
      " [-0.02145495]]\n",
      "\n",
      "One-Hot Encoding Weights\n",
      "Layer 1\n",
      "[[-0.00018149 -0.00018149 -0.00018149 -0.00018149]\n",
      " [ 0.00157468  0.00157468  0.00157468  0.00157468]\n",
      " [-0.00788218 -0.00788218 -0.00788218 -0.00788218]]\n",
      "Layer 2\n",
      "[[ 0.01050642 -0.01050642]\n",
      " [ 0.01050642 -0.01050642]\n",
      " [ 0.01050642 -0.01050642]\n",
      " [ 0.01050642 -0.01050642]\n",
      " [ 0.02148778 -0.02148778]]\n"
     ]
    }
   ],
   "source": [
    "# Load debug data\n",
    "debug_data = load_data(r'https://raw.githubusercontent.com/cs472ta/CS472/master/datasets/linsep2nonorigin.arff')\n",
    "debug_data = byteRemoverFunction(debug_data)\n",
    "X = debug_data[:,:-1]\n",
    "y = debug_data[:,-1, None]\n",
    "\n",
    "# Train on binary debug data\n",
    "debug_mlp_binary = MLP(momentum=0.5, shuffle=False,hidden_layer_widths=[4],binary=True)\n",
    "debug_mlp_binary.fit(X, y, gaussian=False,deterministic=10)\n",
    "\n",
    "# Print weights for binary\n",
    "debug_binary_weights = debug_mlp_binary.get_weights()\n",
    "print('Binary Encoding Weights')\n",
    "for i in range(0,len(debug_binary_weights)):\n",
    "    print(f'Layer {i+1}')\n",
    "    print(debug_binary_weights[i])\n",
    "\n",
    "# Train on one hot debug data\n",
    "debug_enc = OneHotEncoder()\n",
    "y_hot = debug_enc.fit_transform(y).toarray()\n",
    "debug_mlp_hot = MLP(momentum=0.5, shuffle=False,hidden_layer_widths=[4],one_hot=True)\n",
    "debug_mlp_hot.fit(X, y_hot, gaussian=False,deterministic=10)\n",
    "\n",
    "# Print weights for one-hot\n",
    "debug_hot_weights = debug_mlp_hot.get_weights()\n",
    "print()\n",
    "print('One-Hot Encoding Weights')\n",
    "for i in range(0,len(debug_hot_weights)):\n",
    "    print(f'Layer {i+1}')\n",
    "    print(debug_hot_weights[i])"
   ]
  },
  {
   "cell_type": "markdown",
   "metadata": {
    "id": "kY3VNB1ui03N",
    "pycharm": {
     "name": "#%% md\n"
    }
   },
   "source": [
    "### 1.1.2 Evaluation\n",
    "\n",
    "Evaluate your model using the following parameters:\n",
    "\n",
    "Learning Rate = 0.1\\\n",
    "Momentum = 0.5\\\n",
    "Deterministic = 10 [This means run it 10 epochs and should be the same everytime you run it]\\\n",
    "Shuffle = False\\\n",
    "Validation size = 0\\\n",
    "Initial Weights = All zeros\\\n",
    "Hidden Layer Widths = [4]\n",
    "\n",
    "We will evaluate your model based on printed weights after training on the [Evaluation Dataset](https://raw.githubusercontent.com/cs472ta/CS472/master/datasets/data_banknote_authentication.arff)"
   ]
  },
  {
   "cell_type": "code",
   "execution_count": 12,
   "metadata": {
    "id": "2yAxA78QjDh2",
    "pycharm": {
     "name": "#%%\n"
    }
   },
   "outputs": [
    {
     "name": "stdout",
     "output_type": "stream",
     "text": [
      "Binary Encoding Weights\n",
      "Layer 1\n",
      "[[ 1.30932366  1.30932366  1.30932366  1.30932366]\n",
      " [ 0.80601033  0.80601033  0.80601033  0.80601033]\n",
      " [ 0.92744187  0.92744187  0.92744187  0.92744187]\n",
      " [ 0.22165294  0.22165294  0.22165294  0.22165294]\n",
      " [-1.45313731 -1.45313731 -1.45313731 -1.45313731]]\n",
      "Layer 2\n",
      "[[-1.88512443]\n",
      " [-1.88512443]\n",
      " [-1.88512443]\n",
      " [-1.88512443]\n",
      " [ 4.57969955]]\n",
      "\n",
      "One-Hot Encoding Weights\n",
      "Layer 1\n",
      "[[ 1.63828721  1.63828721  1.63828721  1.63828721]\n",
      " [ 1.09612249  1.09612249  1.09612249  1.09612249]\n",
      " [ 1.23447594  1.23447594  1.23447594  1.23447594]\n",
      " [ 0.39269487  0.39269487  0.39269487  0.39269487]\n",
      " [-2.09316151 -2.09316151 -2.09316151 -2.09316151]]\n",
      "Layer 2\n",
      "[[ 1.81695611 -1.81695611]\n",
      " [ 1.81695611 -1.81695611]\n",
      " [ 1.81695611 -1.81695611]\n",
      " [ 1.81695611 -1.81695611]\n",
      " [-4.17098071  4.17098071]]\n"
     ]
    }
   ],
   "source": [
    "# Load evaluation data\n",
    "eval_data = load_data(r'https://raw.githubusercontent.com/cs472ta/CS472/master/datasets/data_banknote_authentication.arff')\n",
    "eval_data = byteRemoverFunction(eval_data)\n",
    "X = eval_data[:,:-1]\n",
    "y = eval_data[:,-1, None]\n",
    "\n",
    "# Train on binary evaluation data\n",
    "eval_mlp_binary = MLP(momentum=0.5, shuffle=False,hidden_layer_widths=[4],binary=True)\n",
    "eval_mlp_binary.fit(X, y, gaussian=False,deterministic=10)\n",
    "\n",
    "# Print weights for binary\n",
    "eval_binary_weights = eval_mlp_binary.get_weights()\n",
    "print('Binary Encoding Weights')\n",
    "for i in range(0,len(eval_binary_weights)):\n",
    "    print(f'Layer {i+1}')\n",
    "    print(eval_binary_weights[i])\n",
    "\n",
    "# Train on one hot eval data\n",
    "eval_enc = OneHotEncoder()\n",
    "y_hot = eval_enc.fit_transform(y).toarray()\n",
    "eval_mlp_hot = MLP(momentum=0.5, shuffle=False,hidden_layer_widths=[4],one_hot=True)\n",
    "eval_mlp_hot.fit(X, y_hot, gaussian=False,deterministic=10)\n",
    "\n",
    "# Print weights for one-hot\n",
    "eval_hot_weights = eval_mlp_hot.get_weights()\n",
    "print()\n",
    "print('One-Hot Encoding Weights')\n",
    "for i in range(0,len(eval_hot_weights)):\n",
    "    print(f'Layer {i+1}')\n",
    "    print(eval_hot_weights[i])\n"
   ]
  },
  {
   "cell_type": "markdown",
   "metadata": {
    "id": "9vWiTdlbR2Xh",
    "pycharm": {
     "name": "#%% md\n"
    }
   },
   "source": [
    "## 2. (10%) Backpropagation on the Iris Classification problem.\n",
    "\n",
    "Load the Iris Dataset [Iris Dataset](https://raw.githubusercontent.com/cs472ta/CS472/master/datasets/iris.arff)\n",
    "\n",
    "Parameters:\n",
    "- One layer of hidden nodes with the number of hidden nodes being twice the number of inputs.\n",
    "- Use a 80/20 split of the data for the training/test set.\n",
    "- Use a learning rate of 0.1\n",
    "- Use a validation set (15% of the training set) taken from the training set for your stopping criteria\n",
    "- Create one graph with MSE (mean squared error) over epochs from the training set and validation set\n",
    "- Create one graph with classification accuracy (% classified correctly) over epochs from the training set and validation set\n",
    "- Print out your test set accuracy\n",
    "\n",
    "The results for the different measurables should be shown with a different color, line type, etc. Typical backpropagation accuracies for the Iris data set are 85-95%.\n",
    "\n",
    "---"
   ]
  },
  {
   "cell_type": "code",
   "execution_count": 53,
   "metadata": {
    "id": "4SSoasDQSKXb",
    "pycharm": {
     "name": "#%%\n"
    }
   },
   "outputs": [
    {
     "data": {
      "text/plain": "<Figure size 640x480 with 1 Axes>",
      "image/png": "[encoded data removed]"
     },
     "metadata": {},
     "output_type": "display_data"
    },
    {
     "data": {
      "text/plain": "<Figure size 640x480 with 1 Axes>",
      "image/png": "[encoded data removed]"
     },
     "metadata": {},
     "output_type": "display_data"
    }
   ],
   "source": [
    "# Iris Classification\n",
    "iris_data = np.array(load_data(r\"https://raw.githubusercontent.com/cs472ta/CS472/master/datasets/iris.arff\"))\n",
    "iris_y = iris_data[:,-1, None]\n",
    "iris_X = iris_data[:,:-1]\n",
    "iris_enc = OneHotEncoder()\n",
    "iris_y_hot = iris_enc.fit_transform(iris_y).toarray()\n",
    "iris_X_train, iris_X_test, iris_y_train, iris_y_test = train_test_split(iris_X, iris_y_hot, test_size=0.2)\n",
    "\n",
    "# Train on binary debug data\n",
    "iris_mlp = MLP(one_hot=True,shuffle=True)\n",
    "iris_mlp.fit(iris_X_train, iris_y_train, gaussian=True,get_mses=True,X_test=iris_X_test,y_test=iris_y_test)\n",
    "iris_mlp.score(iris_X_test, iris_y_test)\n",
    "\n",
    "plot_graphs(iris_mlp)\n"
   ]
  },
  {
   "cell_type": "markdown",
   "metadata": {
    "id": "SIRG42TgSR4x",
    "pycharm": {
     "name": "#%% md\n"
    }
   },
   "source": [
    "## 3. (10%) Working with the Vowel Dataset - Learning Rate\n",
    "\n",
    "Load the Vowel Dataset [Vowel Dataset](https://raw.githubusercontent.com/cs472ta/CS472/master/datasets/vowel.arff)\n",
    "\n",
    "- Use one layer of hidden nodes with the number of hidden nodes being twice the number of inputs.\n",
    "- Use random 80/20 splits of the data for the training/test set.\n",
    "- Use a validation set (15% of the training set) taken from the training set for your stopping criteria\n",
    "- Try some different learning rates (LR). Note that each LR will probably require a different number of epochs to learn. \n",
    "\n",
    "- For each LR you test, plot their validation's set MSE over Epochs on the same graph. Graph 4-5 different LRs and make them different enough to see a difference between them.\n",
    "\n",
    "In general, whenever you are testing a parameter such as LR, # of hidden nodes, etc., test values until no more improvement is found. For example, if 20 hidden nodes did better than 10, you would not stop at 20, but would try 40, etc., until you no longer get improvement.\n",
    "\n",
    "If you would like you may average the results of multiple initial conditions (e.g. 3) per LR, and that obviously would give more accurate results.\n",
    "\n",
    "<img src=https://raw.githubusercontent.com/cs472ta/CS472/master/images/backpropagation/backprop_val_set_MSE_vs_epochs.png width=500 height=500  align=\"left\">"
   ]
  },
  {
   "cell_type": "code",
   "execution_count": null,
   "metadata": {
    "id": "KBGUn43ASiXW",
    "pycharm": {
     "name": "#%%\n"
    }
   },
   "outputs": [],
   "source": [
    "# Train on each dataset"
   ]
  },
  {
   "cell_type": "markdown",
   "metadata": {
    "id": "mOteTlV6S0bq",
    "pycharm": {
     "name": "#%% md\n"
    }
   },
   "source": [
    "## 3.1 (5%) Working with the Vowel Dataset - Intuition\n",
    "- Discuss the effect of varying learning rates. \n",
    "- Discuss why the vowel data set might be more difficult than Iris\n",
    "    - Report both datasets' baseline accuracies and best **test** set accuracies. \n",
    "- Consider which of the vowel dataset's given input features you should actually use (Train/test, speaker, gender, ect) and discuss why you chose the ones you did.\n",
    "\n",
    "Typical backpropagation accuracies for the Vowel data set are above 75%.\n",
    "\n"
   ]
  },
  {
   "cell_type": "markdown",
   "metadata": {
    "id": "qmq9GSbJS8k2",
    "pycharm": {
     "name": "#%% md\n"
    }
   },
   "source": [
    "*Discuss Intuition here*\n",
    "\n"
   ]
  },
  {
   "cell_type": "markdown",
   "metadata": {
    "id": "SIRG42TgSR4x",
    "pycharm": {
     "name": "#%% md\n"
    }
   },
   "source": [
    "## 3.2 (10%) Working with the Vowel Dataset - Hidden Layer Nodes\n",
    "\n",
    "Using the best LR you discovered, experiment with different numbers of hidden nodes.\n",
    "\n",
    "- Start with 1 hidden node, then 2, and then double them for each test until you get no more improvement in accuracy. \n",
    "- For each number of hidden nodes find the best validation set solution (in terms of validation set MSE).  \n",
    "- Create one graph with MSE for the training set and validation set on the y-axis and # of hidden nodes on the x-axis.\n",
    "- Report the final test set accuracy for every # of hidden nodes you experimented on"
   ]
  },
  {
   "cell_type": "code",
   "execution_count": null,
   "metadata": {
    "pycharm": {
     "name": "#%%\n"
    }
   },
   "outputs": [],
   "source": []
  },
  {
   "cell_type": "markdown",
   "metadata": {
    "id": "qmq9GSbJS8k2",
    "pycharm": {
     "name": "#%% md\n"
    }
   },
   "source": [
    "*Discuss Hidden Layer Nodes here*\n",
    "\n"
   ]
  },
  {
   "cell_type": "markdown",
   "metadata": {
    "id": "SIRG42TgSR4x",
    "pycharm": {
     "name": "#%% md\n"
    }
   },
   "source": [
    "## 3.3 (10%) Working with the Vowel Dataset - Momentum\n",
    "\n",
    "Try some different momentum terms using the best number of hidden nodes and LR from your earlier experiments.\n",
    "\n",
    "- Create a graph similar to step 3.2, but with momentum on the x-axis and number of epochs until validation set convergence on the y-axis.\n",
    "- For each momentum term, print the test set accuracy. \n",
    "- You are trying to see how much momentum speeds up learning and how it affects accuracy."
   ]
  },
  {
   "cell_type": "code",
   "execution_count": null,
   "metadata": {
    "pycharm": {
     "name": "#%%\n"
    }
   },
   "outputs": [],
   "source": []
  },
  {
   "cell_type": "markdown",
   "metadata": {
    "id": "qmq9GSbJS8k2",
    "pycharm": {
     "name": "#%% md\n"
    }
   },
   "source": [
    "*Discuss Momentum here*\n",
    "\n"
   ]
  },
  {
   "cell_type": "markdown",
   "metadata": {
    "id": "oBBmeNQ7jvcQ",
    "pycharm": {
     "name": "#%% md\n"
    }
   },
   "source": [
    "## 4.1 (10%) Use the scikit-learn (SK) version of the MLP classifier on the Iris and Vowel data sets.  \n",
    "\n",
    "You do not need to go through all the steps above, nor graph results. Compare results (accuracy and learning speed) between your version and theirs for some selection of hyper-parameters. Try different hyper-parameters and comment on their effect.\n",
    "\n",
    "At a minimum, try\n",
    "\n",
    "- number of hidden nodes and layers\n",
    "- different activation functions\n",
    "- learning rate\n",
    "- regularization and parameters\n",
    "- momentum (and try nesterov)\n",
    "- early stopping"
   ]
  },
  {
   "cell_type": "code",
   "execution_count": null,
   "metadata": {
    "id": "OFQv70W2VyqJ",
    "pycharm": {
     "name": "#%%\n"
    }
   },
   "outputs": [],
   "source": [
    "# Load sklearn perceptron\n",
    "\n",
    "# Train on voting dataset"
   ]
  },
  {
   "cell_type": "markdown",
   "metadata": {
    "id": "BqSFAXwlk3Ms",
    "pycharm": {
     "name": "#%% md\n"
    }
   },
   "source": [
    "*Record impressions*"
   ]
  },
  {
   "cell_type": "markdown",
   "metadata": {
    "id": "oBBmeNQ7jvcQ",
    "pycharm": {
     "name": "#%% md\n"
    }
   },
   "source": [
    "## 4.2 (5%) Using the Iris Dataset automatically adjust hyper-parameters using your choice of grid/random search\n",
    "- Use a grid or random search approach across a reasonable subset of hyper-parameters from the above \n",
    "- Report your best accuracy and hyper-parameters. "
   ]
  },
  {
   "cell_type": "code",
   "execution_count": null,
   "metadata": {
    "id": "OFQv70W2VyqJ",
    "pycharm": {
     "name": "#%%\n"
    }
   },
   "outputs": [],
   "source": [
    "# Load sklearn perceptron\n",
    "\n",
    "# Train on voting dataset"
   ]
  },
  {
   "cell_type": "markdown",
   "metadata": {
    "id": "cTlK-kijk8Mg",
    "pycharm": {
     "name": "#%% md\n"
    }
   },
   "source": [
    "## 5. (Optional 5% Extra credit) For the vowel data set, use the other hyper-parameter approach that you did not use in part 4.2 to find LR, # of hidden nodes, and momentum.  \n",
    "\n",
    "- Compare and discuss the values found with the ones you found in part 3.\n"
   ]
  },
  {
   "cell_type": "code",
   "execution_count": null,
   "metadata": {
    "pycharm": {
     "name": "#%%\n"
    }
   },
   "outputs": [],
   "source": []
  },
  {
   "cell_type": "markdown",
   "metadata": {
    "id": "BqSFAXwlk3Ms",
    "pycharm": {
     "name": "#%% md\n"
    }
   },
   "source": [
    "*Discuss findings here*"
   ]
  }
 ],
 "metadata": {
  "colab": {
   "collapsed_sections": [],
   "name": "lab 1 - perceptron",
   "provenance": []
  },
  "kernelspec": {
   "display_name": "Python 3",
   "language": "python",
   "name": "python3"
  },
  "language_info": {
   "codemirror_mode": {
    "name": "ipython",
    "version": 3
   },
   "file_extension": ".py",
   "mimetype": "text/x-python",
   "name": "python",
   "nbconvert_exporter": "python",
   "pygments_lexer": "ipython3",
   "version": "3.9.0"
  }
 },
 "nbformat": 4,
 "nbformat_minor": 4
}